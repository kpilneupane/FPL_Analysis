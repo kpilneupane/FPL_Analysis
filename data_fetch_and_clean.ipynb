{
 "cells": [
  {
   "cell_type": "code",
   "execution_count": 2,
   "metadata": {},
   "outputs": [],
   "source": [
    "import pandas as pd\n",
    "import numpy as np\n",
    "import requests\n",
    "import json\n",
    "import os"
   ]
  },
  {
   "cell_type": "code",
   "execution_count": 3,
   "metadata": {},
   "outputs": [
    {
     "name": "stdout",
     "output_type": "stream",
     "text": [
      "                                              events  \\\n",
      "0  [{'id': 1, 'name': 'Gameweek 1', 'deadline_tim...   \n",
      "\n",
      "                                              phases  \\\n",
      "0  [{'id': 1, 'name': 'Overall', 'start_event': 1...   \n",
      "\n",
      "                                               teams  total_players  \\\n",
      "0  [{'code': 3, 'draw': 0, 'form': None, 'id': 1,...       10457143   \n",
      "\n",
      "                                            elements  \\\n",
      "0  [{'chance_of_playing_next_round': 0, 'chance_o...   \n",
      "\n",
      "                                       element_stats  \\\n",
      "0  [{'label': 'Minutes played', 'name': 'minutes'...   \n",
      "\n",
      "                                       element_types  \\\n",
      "0  [{'id': 1, 'plural_name': 'Goalkeepers', 'plur...   \n",
      "\n",
      "   game_settings.league_join_private_max  \\\n",
      "0                                     30   \n",
      "\n",
      "   game_settings.league_join_public_max  \\\n",
      "0                                     5   \n",
      "\n",
      "   game_settings.league_max_size_public_classic  ...  \\\n",
      "0                                            20  ...   \n",
      "\n",
      "   game_settings.squad_total_spend  game_settings.ui_currency_multiplier  \\\n",
      "0                             1000                                    10   \n",
      "\n",
      "   game_settings.ui_use_special_shirts  \\\n",
      "0                                False   \n",
      "\n",
      "  game_settings.ui_special_shirt_exclusions  game_settings.stats_form_days  \\\n",
      "0                                        []                             30   \n",
      "\n",
      "   game_settings.sys_vice_captain_enabled  game_settings.transfers_cap  \\\n",
      "0                                    True                           20   \n",
      "\n",
      "   game_settings.transfers_sell_on_fee  \\\n",
      "0                                  0.5   \n",
      "\n",
      "  game_settings.league_h2h_tiebreak_stats game_settings.timezone  \n",
      "0        [+goals_scored, -goals_conceded]                    UTC  \n",
      "\n",
      "[1 rows x 36 columns]\n"
     ]
    }
   ],
   "source": [
    "response = requests.get(\"https://fantasy.premierleague.com/api/bootstrap-static/\")\n",
    "j = response.json()\n",
    "df = pd.json_normalize(j)\n",
    "data = df\n",
    "print(data.head())\n",
    "\n",
    "# data.select_dtypes('object')\n",
    "# data_filtered = df[['events', 'teams']]\n",
    "# print(data_filtered[0])\n",
    "# print(data_filtered)\n",
    "# data.empty\n",
    "# print(df)\n",
    "# print(data.head)\n",
    "# data."
   ]
  },
  {
   "cell_type": "code",
   "execution_count": 72,
   "metadata": {},
   "outputs": [
    {
     "name": "stdout",
     "output_type": "stream",
     "text": [
      "                                              events  \\\n",
      "0  [{'id': 1, 'name': 'Gameweek 1', 'deadline_tim...   \n",
      "\n",
      "                                              phases  \\\n",
      "0  [{'id': 1, 'name': 'Overall', 'start_event': 1...   \n",
      "\n",
      "                                               teams  total_players  \\\n",
      "0  [{'code': 3, 'draw': 0, 'form': None, 'id': 1,...       10457073   \n",
      "\n",
      "                                            elements  \\\n",
      "0  [{'chance_of_playing_next_round': 0, 'chance_o...   \n",
      "\n",
      "                                       element_stats  \\\n",
      "0  [{'label': 'Minutes played', 'name': 'minutes'...   \n",
      "\n",
      "                                       element_types  \\\n",
      "0  [{'id': 1, 'plural_name': 'Goalkeepers', 'plur...   \n",
      "\n",
      "   game_settings.league_join_private_max  \\\n",
      "0                                     30   \n",
      "\n",
      "   game_settings.league_join_public_max  \\\n",
      "0                                     5   \n",
      "\n",
      "   game_settings.league_max_size_public_classic  ...  \\\n",
      "0                                            20  ...   \n",
      "\n",
      "   game_settings.squad_total_spend  game_settings.ui_currency_multiplier  \\\n",
      "0                             1000                                    10   \n",
      "\n",
      "   game_settings.ui_use_special_shirts  \\\n",
      "0                                False   \n",
      "\n",
      "  game_settings.ui_special_shirt_exclusions  game_settings.stats_form_days  \\\n",
      "0                                        []                             30   \n",
      "\n",
      "   game_settings.sys_vice_captain_enabled  game_settings.transfers_cap  \\\n",
      "0                                    True                           20   \n",
      "\n",
      "   game_settings.transfers_sell_on_fee  \\\n",
      "0                                  0.5   \n",
      "\n",
      "  game_settings.league_h2h_tiebreak_stats game_settings.timezone  \n",
      "0        [+goals_scored, -goals_conceded]                    UTC  \n",
      "\n",
      "[1 rows x 36 columns]\n"
     ]
    }
   ],
   "source": [
    "# columns = data.query('forward == \"salah\" ')\n",
    "# print(data.get('events'))\n",
    "# print(j)\n",
    "# print(df.head)\n",
    "fpl_data = df\n",
    "search_value='gameweek 1'\n",
    "found_rows = pd.DataFrame()\n",
    "\n",
    "for column in fpl_data.columns:\n",
    "    try:\n",
    "        mask = fpl_data[column].astype(str).str.contains(search_value,case=False)\n",
    "        if mask.any():\n",
    "            found_rows = pd.concat([found_rows, df[mask]], ignore_index=True)\n",
    "    except Exception as e:\n",
    "        print(f'Error in column \"{column}\": {e}')\n",
    "\n",
    "print(found_rows)\n",
    "# found_rows.to_csv('salah.csv')\n",
    "\n"
   ]
  },
  {
   "cell_type": "code",
   "execution_count": 77,
   "metadata": {},
   "outputs": [],
   "source": [
    "# ! pip install scikit-learn"
   ]
  },
  {
   "cell_type": "code",
   "execution_count": 39,
   "metadata": {},
   "outputs": [],
   "source": [
    "url = 'https://fantasy.premierleague.com/api/bootstrap-static/'\n",
    "r = requests.get(url)\n",
    "fpl_data = r.json()\n"
   ]
  },
  {
   "cell_type": "code",
   "execution_count": 42,
   "metadata": {},
   "outputs": [
    {
     "data": {
      "text/plain": [
       "Index(['chance_of_playing_next_round', 'chance_of_playing_this_round', 'code',\n",
       "       'cost_change_event', 'cost_change_event_fall', 'cost_change_start',\n",
       "       'cost_change_start_fall', 'dreamteam_count', 'element_type', 'ep_next',\n",
       "       'ep_this', 'event_points', 'first_name', 'form', 'id', 'in_dreamteam',\n",
       "       'news', 'news_added', 'now_cost', 'photo', 'points_per_game',\n",
       "       'second_name', 'selected_by_percent', 'special', 'squad_number',\n",
       "       'status', 'team', 'team_code', 'total_points', 'transfers_in',\n",
       "       'transfers_in_event', 'transfers_out', 'transfers_out_event',\n",
       "       'value_form', 'value_season', 'web_name', 'minutes', 'goals_scored',\n",
       "       'assists', 'clean_sheets', 'goals_conceded', 'own_goals',\n",
       "       'penalties_saved', 'penalties_missed', 'yellow_cards', 'red_cards',\n",
       "       'saves', 'bonus', 'bps', 'influence', 'creativity', 'threat',\n",
       "       'ict_index', 'starts', 'expected_goals', 'expected_assists',\n",
       "       'expected_goal_involvements', 'expected_goals_conceded',\n",
       "       'influence_rank', 'influence_rank_type', 'creativity_rank',\n",
       "       'creativity_rank_type', 'threat_rank', 'threat_rank_type',\n",
       "       'ict_index_rank', 'ict_index_rank_type',\n",
       "       'corners_and_indirect_freekicks_order',\n",
       "       'corners_and_indirect_freekicks_text', 'direct_freekicks_order',\n",
       "       'direct_freekicks_text', 'penalties_order', 'penalties_text',\n",
       "       'expected_goals_per_90', 'saves_per_90', 'expected_assists_per_90',\n",
       "       'expected_goal_involvements_per_90', 'expected_goals_conceded_per_90',\n",
       "       'goals_conceded_per_90', 'now_cost_rank', 'now_cost_rank_type',\n",
       "       'form_rank', 'form_rank_type', 'points_per_game_rank',\n",
       "       'points_per_game_rank_type', 'selected_rank', 'selected_rank_type',\n",
       "       'starts_per_90', 'clean_sheets_per_90'],\n",
       "      dtype='object')"
      ]
     },
     "execution_count": 42,
     "metadata": {},
     "output_type": "execute_result"
    }
   ],
   "source": [
    "# fpl_data.keys()\n",
    "fpl_data = fpl_data\n",
    "elements_df = pd.DataFrame(fpl_data['elements'])\n",
    "elements_df.to_csv('elements.csv')\n",
    "elements_df.columns"
   ]
  },
  {
   "cell_type": "code",
   "execution_count": 43,
   "metadata": {},
   "outputs": [
    {
     "data": {
      "text/plain": [
       "Index(['chance_of_playing_next_round', 'chance_of_playing_this_round', 'code',\n",
       "       'cost_change_event', 'cost_change_event_fall', 'cost_change_start',\n",
       "       'cost_change_start_fall', 'dreamteam_count', 'element_type', 'ep_next',\n",
       "       'ep_this', 'event_points', 'first_name', 'form', 'id', 'in_dreamteam',\n",
       "       'news', 'news_added', 'now_cost', 'photo', 'points_per_game',\n",
       "       'second_name', 'selected_by_percent', 'special', 'squad_number',\n",
       "       'status', 'team', 'team_code', 'total_points', 'transfers_in',\n",
       "       'transfers_in_event', 'transfers_out', 'transfers_out_event',\n",
       "       'value_form', 'value_season', 'web_name', 'minutes', 'goals_scored',\n",
       "       'assists', 'clean_sheets', 'goals_conceded', 'own_goals',\n",
       "       'penalties_saved', 'penalties_missed', 'yellow_cards', 'red_cards',\n",
       "       'saves', 'bonus', 'bps', 'influence', 'creativity', 'threat',\n",
       "       'ict_index', 'starts', 'expected_goals', 'expected_assists',\n",
       "       'expected_goal_involvements', 'expected_goals_conceded',\n",
       "       'influence_rank', 'influence_rank_type', 'creativity_rank',\n",
       "       'creativity_rank_type', 'threat_rank', 'threat_rank_type',\n",
       "       'ict_index_rank', 'ict_index_rank_type',\n",
       "       'corners_and_indirect_freekicks_order',\n",
       "       'corners_and_indirect_freekicks_text', 'direct_freekicks_order',\n",
       "       'direct_freekicks_text', 'penalties_order', 'penalties_text',\n",
       "       'expected_goals_per_90', 'saves_per_90', 'expected_assists_per_90',\n",
       "       'expected_goal_involvements_per_90', 'expected_goals_conceded_per_90',\n",
       "       'goals_conceded_per_90', 'now_cost_rank', 'now_cost_rank_type',\n",
       "       'form_rank', 'form_rank_type', 'points_per_game_rank',\n",
       "       'points_per_game_rank_type', 'selected_rank', 'selected_rank_type',\n",
       "       'starts_per_90', 'clean_sheets_per_90'],\n",
       "      dtype='object')"
      ]
     },
     "execution_count": 43,
     "metadata": {},
     "output_type": "execute_result"
    }
   ],
   "source": [
    "elements_df = pd.read_csv('elements.csv', index_col=[0])\n",
    "elements_df.columns\n"
   ]
  },
  {
   "cell_type": "code",
   "execution_count": 44,
   "metadata": {},
   "outputs": [
    {
     "data": {
      "text/plain": [
       "element_type             int64\n",
       "event_points             int64\n",
       "first_name              object\n",
       "second_name             object\n",
       "form                   float64\n",
       "now_cost                 int64\n",
       "points_per_game        float64\n",
       "selected_by_percent    float64\n",
       "status                  object\n",
       "team                     int64\n",
       "total_points             int64\n",
       "goals_scored             int64\n",
       "assists                  int64\n",
       "yellow_cards             int64\n",
       "bps                      int64\n",
       "dtype: object"
      ]
     },
     "execution_count": 44,
     "metadata": {},
     "output_type": "execute_result"
    }
   ],
   "source": [
    "cols = ['element_type', 'event_points', 'first_name','second_name', 'form', 'now_cost', 'points_per_game', 'selected_by_percent', 'status', 'team',  'total_points', 'goals_scored', 'assists', 'yellow_cards', 'bps']\n",
    "df = elements_df[cols]\n",
    "df.dtypes"
   ]
  },
  {
   "cell_type": "code",
   "execution_count": 46,
   "metadata": {},
   "outputs": [
    {
     "name": "stderr",
     "output_type": "stream",
     "text": [
      "C:\\Users\\KNEUPANE\\AppData\\Local\\Temp\\ipykernel_22292\\1508490446.py:2: SettingWithCopyWarning: \n",
      "A value is trying to be set on a copy of a slice from a DataFrame.\n",
      "Try using .loc[row_indexer,col_indexer] = value instead\n",
      "\n",
      "See the caveats in the documentation: https://pandas.pydata.org/pandas-docs/stable/user_guide/indexing.html#returning-a-view-versus-a-copy\n",
      "  df[cos_float] = df.loc[:, tuple(cos_float)].astype('float32')\n"
     ]
    }
   ],
   "source": [
    "cols = ['form', 'points_per_game', 'selected_by_percent']\n",
    "df[cols] = df.loc[:, tuple(cols)].astype('float32')"
   ]
  },
  {
   "cell_type": "code",
   "execution_count": 20,
   "metadata": {},
   "outputs": [
    {
     "name": "stdout",
     "output_type": "stream",
     "text": [
      "<bound method NDFrame.head of                                                teams\n",
      "0  [{'code': 3, 'draw': 0, 'form': None, 'id': 1,...>\n"
     ]
    }
   ],
   "source": [
    "# teams\n",
    "teams_df = pd.DataFrame(fpl_data['teams'])\n",
    "teams_df.to_csv('tams_23_24.csv')\n",
    "print(teams_df.head)\n",
    "\n"
   ]
  },
  {
   "cell_type": "code",
   "execution_count": 22,
   "metadata": {},
   "outputs": [
    {
     "data": {
      "text/plain": [
       "<bound method NDFrame.head of                                                teams\n",
       "0  [{'code': 3, 'draw': 0, 'form': None, 'id': 1,...>"
      ]
     },
     "execution_count": 22,
     "metadata": {},
     "output_type": "execute_result"
    }
   ],
   "source": [
    "teams_df = pd.read_csv('teams.csv', index_col=[0])\n",
    "teams_df.head"
   ]
  },
  {
   "cell_type": "code",
   "execution_count": 23,
   "metadata": {},
   "outputs": [
    {
     "data": {
      "text/plain": [
       "Index(['teams'], dtype='object')"
      ]
     },
     "execution_count": 23,
     "metadata": {},
     "output_type": "execute_result"
    }
   ],
   "source": [
    "teams_df.columns"
   ]
  }
 ],
 "metadata": {
  "kernelspec": {
   "display_name": "Python 3",
   "language": "python",
   "name": "python3"
  },
  "language_info": {
   "codemirror_mode": {
    "name": "ipython",
    "version": 3
   },
   "file_extension": ".py",
   "mimetype": "text/x-python",
   "name": "python",
   "nbconvert_exporter": "python",
   "pygments_lexer": "ipython3",
   "version": "3.11.4"
  }
 },
 "nbformat": 4,
 "nbformat_minor": 2
}
